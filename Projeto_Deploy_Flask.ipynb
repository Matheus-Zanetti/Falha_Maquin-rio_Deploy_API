{
 "cells": [
  {
   "cell_type": "markdown",
   "id": "c9197912-01c3-4c9d-ac34-4bcae70a0ba6",
   "metadata": {},
   "source": [
    "# Deploy de um Projeto de Machine Learnin com Flask: Previsão de Falha de Maquinário"
   ]
  },
  {
   "cell_type": "markdown",
   "id": "c77eb771-2a38-453c-9960-5eb4aea6df8e",
   "metadata": {},
   "source": [
    "Quando estou sobre dados, principalmente voltados a aprendizado de máquina, nos deparamos com uma imensidade de projetos sobre o assunto mostrando uma variedade de métricas, algoritmos, tipos de modelos, métodos de ajustes de parâmetros e muitos outros aspecto de construção de um algoritmo de aprendizagem de máquina. \n",
    "\n",
    "Mas o que acontece depois de achar o modelo ideal? O que acontece após encontrar com 99,99% de acurácia um modelo que prevê o cancelamento de um serviço? O faturamento do próximo mês?\n",
    "\n",
    "Acredito que boa parte dos projetos de Machine Learning param nesta etapa, ou porque o objetivo era esse mesmo ou por falta de prósito final para o algoritmo. Pensando nisso, vamos nesse post desenvolver um modelo de machine learning e fazer o deploy desse modelo por meio de uma API com a biblioteca Flask do python "
   ]
  },
  {
   "cell_type": "markdown",
   "id": "0b977066-1952-4236-acd4-273ceca3cdd3",
   "metadata": {},
   "source": [
    "## Sobre o Projeto\n",
    "### Entedimento do Problema"
   ]
  },
  {
   "cell_type": "markdown",
   "id": "cf64cd96-1025-4dd4-83a8-296c0e327c55",
   "metadata": {},
   "source": [
    "Este conjunto de dados contém dados de sensores coletados de várias máquinas, com o objetivo de prever falhas de máquinas com antecedência. Ele inclui uma variedade de leituras de sensores, bem como as falhas de máquinas registradas.\n",
    "\n",
    "Segue o nome a descrição das colunas:\n",
    "\n",
    "footfall: O número de pessoas ou objetos passando pela máquina.\n",
    "\n",
    "tempMode: O modo de temperatura ou configuração da máquin\n",
    "\n",
    "\n",
    "\n",
    "AQ: Índice de qualidade do ar perto da máquina.\n",
    "\n",
    "USS: Dados do sensor ultrassônico, indicando medições de proximidade.\n",
    "\n",
    "CS: Leituras atuais do sensor, indicando o uso de corrente elétrica da máquina.\n",
    "\n",
    "VOC: Nível de compostos orgânicos voláteis detectado perto da máquina.\n",
    "\n",
    "RP: Posição rotacional ou RPM (revoluções por minuto) das peças da máquina.\n",
    "\n",
    "IP: Pressão de entrada na máquina.\n",
    "\n",
    "Temperature: A temperatura operacional da máquina.\n",
    "\n",
    "fail: Indicador binário de falha da máquina (1 para falha, 0 para nenhuma falha).ra nenhuma falha).a falha)."
   ]
  },
  {
   "cell_type": "markdown",
   "id": "6e070238-104b-42b3-a7e3-aa13e2344b38",
   "metadata": {},
   "source": [
    "## Importação e Análises Iniciais"
   ]
  },
  {
   "cell_type": "code",
   "execution_count": 1,
   "id": "77f0ebc1-b792-4f36-8dc3-2c372b9c086f",
   "metadata": {},
   "outputs": [],
   "source": [
    "import pandas as pd"
   ]
  },
  {
   "cell_type": "code",
   "execution_count": 2,
   "id": "903fb1f1-49e1-4576-af85-7548a5200a99",
   "metadata": {},
   "outputs": [],
   "source": [
    "df = pd.read_csv('archive/data.csv')"
   ]
  },
  {
   "cell_type": "code",
   "execution_count": 5,
   "id": "cb87233a",
   "metadata": {},
   "outputs": [
    {
     "data": {
      "text/html": [
       "<div>\n",
       "<style scoped>\n",
       "    .dataframe tbody tr th:only-of-type {\n",
       "        vertical-align: middle;\n",
       "    }\n",
       "\n",
       "    .dataframe tbody tr th {\n",
       "        vertical-align: top;\n",
       "    }\n",
       "\n",
       "    .dataframe thead th {\n",
       "        text-align: right;\n",
       "    }\n",
       "</style>\n",
       "<table border=\"1\" class=\"dataframe\">\n",
       "  <thead>\n",
       "    <tr style=\"text-align: right;\">\n",
       "      <th></th>\n",
       "      <th>footfall</th>\n",
       "      <th>tempMode</th>\n",
       "      <th>AQ</th>\n",
       "      <th>USS</th>\n",
       "      <th>CS</th>\n",
       "      <th>VOC</th>\n",
       "      <th>RP</th>\n",
       "      <th>IP</th>\n",
       "      <th>Temperature</th>\n",
       "      <th>fail</th>\n",
       "    </tr>\n",
       "  </thead>\n",
       "  <tbody>\n",
       "    <tr>\n",
       "      <th>939</th>\n",
       "      <td>0</td>\n",
       "      <td>7</td>\n",
       "      <td>7</td>\n",
       "      <td>1</td>\n",
       "      <td>6</td>\n",
       "      <td>4</td>\n",
       "      <td>73</td>\n",
       "      <td>6</td>\n",
       "      <td>24</td>\n",
       "      <td>1</td>\n",
       "    </tr>\n",
       "    <tr>\n",
       "      <th>940</th>\n",
       "      <td>0</td>\n",
       "      <td>7</td>\n",
       "      <td>5</td>\n",
       "      <td>2</td>\n",
       "      <td>6</td>\n",
       "      <td>6</td>\n",
       "      <td>50</td>\n",
       "      <td>6</td>\n",
       "      <td>24</td>\n",
       "      <td>1</td>\n",
       "    </tr>\n",
       "    <tr>\n",
       "      <th>941</th>\n",
       "      <td>0</td>\n",
       "      <td>3</td>\n",
       "      <td>6</td>\n",
       "      <td>2</td>\n",
       "      <td>7</td>\n",
       "      <td>5</td>\n",
       "      <td>43</td>\n",
       "      <td>6</td>\n",
       "      <td>24</td>\n",
       "      <td>1</td>\n",
       "    </tr>\n",
       "    <tr>\n",
       "      <th>942</th>\n",
       "      <td>0</td>\n",
       "      <td>6</td>\n",
       "      <td>6</td>\n",
       "      <td>2</td>\n",
       "      <td>5</td>\n",
       "      <td>6</td>\n",
       "      <td>46</td>\n",
       "      <td>7</td>\n",
       "      <td>24</td>\n",
       "      <td>1</td>\n",
       "    </tr>\n",
       "    <tr>\n",
       "      <th>943</th>\n",
       "      <td>18</td>\n",
       "      <td>7</td>\n",
       "      <td>4</td>\n",
       "      <td>2</td>\n",
       "      <td>6</td>\n",
       "      <td>3</td>\n",
       "      <td>61</td>\n",
       "      <td>7</td>\n",
       "      <td>24</td>\n",
       "      <td>1</td>\n",
       "    </tr>\n",
       "  </tbody>\n",
       "</table>\n",
       "</div>"
      ],
      "text/plain": [
       "     footfall  tempMode  AQ  USS  CS  VOC  RP  IP  Temperature  fail\n",
       "939         0         7   7    1   6    4  73   6           24     1\n",
       "940         0         7   5    2   6    6  50   6           24     1\n",
       "941         0         3   6    2   7    5  43   6           24     1\n",
       "942         0         6   6    2   5    6  46   7           24     1\n",
       "943        18         7   4    2   6    3  61   7           24     1"
      ]
     },
     "execution_count": 5,
     "metadata": {},
     "output_type": "execute_result"
    }
   ],
   "source": [
    "df.tail()"
   ]
  },
  {
   "cell_type": "code",
   "execution_count": 42,
   "id": "ba157c19-68b1-488a-a659-afad15f86b33",
   "metadata": {},
   "outputs": [
    {
     "name": "stdout",
     "output_type": "stream",
     "text": [
      "<class 'pandas.core.frame.DataFrame'>\n",
      "RangeIndex: 944 entries, 0 to 943\n",
      "Data columns (total 10 columns):\n",
      " #   Column       Non-Null Count  Dtype\n",
      "---  ------       --------------  -----\n",
      " 0   footfall     944 non-null    int64\n",
      " 1   tempMode     944 non-null    int64\n",
      " 2   AQ           944 non-null    int64\n",
      " 3   USS          944 non-null    int64\n",
      " 4   CS           944 non-null    int64\n",
      " 5   VOC          944 non-null    int64\n",
      " 6   RP           944 non-null    int64\n",
      " 7   IP           944 non-null    int64\n",
      " 8   Temperature  944 non-null    int64\n",
      " 9   fail         944 non-null    int64\n",
      "dtypes: int64(10)\n",
      "memory usage: 73.9 KB\n"
     ]
    }
   ],
   "source": [
    "df.info()"
   ]
  },
  {
   "cell_type": "code",
   "execution_count": 45,
   "id": "1c3620bf-85ae-4ede-ae04-039c74774e08",
   "metadata": {},
   "outputs": [
    {
     "data": {
      "text/plain": [
       "fail\n",
       "0    58.368644\n",
       "1    41.631356\n",
       "Name: proportion, dtype: float64"
      ]
     },
     "execution_count": 45,
     "metadata": {},
     "output_type": "execute_result"
    }
   ],
   "source": [
    "#Verificando se a base de dados esta desbalanceada\n",
    "df['fail'].value_counts(normalize=True)*100"
   ]
  },
  {
   "cell_type": "markdown",
   "id": "a360911e-9608-48fd-ab7d-075d91e94c9d",
   "metadata": {},
   "source": [
    "Sobre a base dados, ela possui apeas 994 registros, a nossa variável alvo é a coluna 'fail', para a construção do modelo precisa ser aplicado algum método de normalização e a base de dados está um pouco desbalanceada com o valor da variável alvo com 41,6% dos registros"
   ]
  },
  {
   "cell_type": "markdown",
   "id": "4a6ba801-a4f6-4657-9878-90549846f5ad",
   "metadata": {},
   "source": [
    "### Treinamento e Avaliação do Modelo\n",
    "Para o treinamento desse modelo irei utilizar o pycaret, se precisar de mais ferramentas sobre essa biblioteca sugiro visitar o post nesse link."
   ]
  },
  {
   "cell_type": "code",
   "execution_count": 46,
   "id": "635e7c90-3412-4ae0-b4ae-3627a1fbe256",
   "metadata": {},
   "outputs": [],
   "source": [
    "from pycaret import classification\n",
    "from pycaret.classification import *"
   ]
  },
  {
   "cell_type": "code",
   "execution_count": 47,
   "id": "9d379842-9056-40ed-9037-9dba39247da4",
   "metadata": {},
   "outputs": [
    {
     "data": {
      "text/html": [
       "<style type=\"text/css\">\n",
       "#T_ed197_row8_col1, #T_ed197_row12_col1, #T_ed197_row14_col1 {\n",
       "  background-color: lightgreen;\n",
       "}\n",
       "</style>\n",
       "<table id=\"T_ed197\">\n",
       "  <thead>\n",
       "    <tr>\n",
       "      <th class=\"blank level0\" >&nbsp;</th>\n",
       "      <th id=\"T_ed197_level0_col0\" class=\"col_heading level0 col0\" >Description</th>\n",
       "      <th id=\"T_ed197_level0_col1\" class=\"col_heading level0 col1\" >Value</th>\n",
       "    </tr>\n",
       "  </thead>\n",
       "  <tbody>\n",
       "    <tr>\n",
       "      <th id=\"T_ed197_level0_row0\" class=\"row_heading level0 row0\" >0</th>\n",
       "      <td id=\"T_ed197_row0_col0\" class=\"data row0 col0\" >Session id</td>\n",
       "      <td id=\"T_ed197_row0_col1\" class=\"data row0 col1\" >6313</td>\n",
       "    </tr>\n",
       "    <tr>\n",
       "      <th id=\"T_ed197_level0_row1\" class=\"row_heading level0 row1\" >1</th>\n",
       "      <td id=\"T_ed197_row1_col0\" class=\"data row1 col0\" >Target</td>\n",
       "      <td id=\"T_ed197_row1_col1\" class=\"data row1 col1\" >fail</td>\n",
       "    </tr>\n",
       "    <tr>\n",
       "      <th id=\"T_ed197_level0_row2\" class=\"row_heading level0 row2\" >2</th>\n",
       "      <td id=\"T_ed197_row2_col0\" class=\"data row2 col0\" >Target type</td>\n",
       "      <td id=\"T_ed197_row2_col1\" class=\"data row2 col1\" >Binary</td>\n",
       "    </tr>\n",
       "    <tr>\n",
       "      <th id=\"T_ed197_level0_row3\" class=\"row_heading level0 row3\" >3</th>\n",
       "      <td id=\"T_ed197_row3_col0\" class=\"data row3 col0\" >Original data shape</td>\n",
       "      <td id=\"T_ed197_row3_col1\" class=\"data row3 col1\" >(944, 10)</td>\n",
       "    </tr>\n",
       "    <tr>\n",
       "      <th id=\"T_ed197_level0_row4\" class=\"row_heading level0 row4\" >4</th>\n",
       "      <td id=\"T_ed197_row4_col0\" class=\"data row4 col0\" >Transformed data shape</td>\n",
       "      <td id=\"T_ed197_row4_col1\" class=\"data row4 col1\" >(1054, 10)</td>\n",
       "    </tr>\n",
       "    <tr>\n",
       "      <th id=\"T_ed197_level0_row5\" class=\"row_heading level0 row5\" >5</th>\n",
       "      <td id=\"T_ed197_row5_col0\" class=\"data row5 col0\" >Transformed train set shape</td>\n",
       "      <td id=\"T_ed197_row5_col1\" class=\"data row5 col1\" >(770, 10)</td>\n",
       "    </tr>\n",
       "    <tr>\n",
       "      <th id=\"T_ed197_level0_row6\" class=\"row_heading level0 row6\" >6</th>\n",
       "      <td id=\"T_ed197_row6_col0\" class=\"data row6 col0\" >Transformed test set shape</td>\n",
       "      <td id=\"T_ed197_row6_col1\" class=\"data row6 col1\" >(284, 10)</td>\n",
       "    </tr>\n",
       "    <tr>\n",
       "      <th id=\"T_ed197_level0_row7\" class=\"row_heading level0 row7\" >7</th>\n",
       "      <td id=\"T_ed197_row7_col0\" class=\"data row7 col0\" >Numeric features</td>\n",
       "      <td id=\"T_ed197_row7_col1\" class=\"data row7 col1\" >9</td>\n",
       "    </tr>\n",
       "    <tr>\n",
       "      <th id=\"T_ed197_level0_row8\" class=\"row_heading level0 row8\" >8</th>\n",
       "      <td id=\"T_ed197_row8_col0\" class=\"data row8 col0\" >Preprocess</td>\n",
       "      <td id=\"T_ed197_row8_col1\" class=\"data row8 col1\" >True</td>\n",
       "    </tr>\n",
       "    <tr>\n",
       "      <th id=\"T_ed197_level0_row9\" class=\"row_heading level0 row9\" >9</th>\n",
       "      <td id=\"T_ed197_row9_col0\" class=\"data row9 col0\" >Imputation type</td>\n",
       "      <td id=\"T_ed197_row9_col1\" class=\"data row9 col1\" >simple</td>\n",
       "    </tr>\n",
       "    <tr>\n",
       "      <th id=\"T_ed197_level0_row10\" class=\"row_heading level0 row10\" >10</th>\n",
       "      <td id=\"T_ed197_row10_col0\" class=\"data row10 col0\" >Numeric imputation</td>\n",
       "      <td id=\"T_ed197_row10_col1\" class=\"data row10 col1\" >mean</td>\n",
       "    </tr>\n",
       "    <tr>\n",
       "      <th id=\"T_ed197_level0_row11\" class=\"row_heading level0 row11\" >11</th>\n",
       "      <td id=\"T_ed197_row11_col0\" class=\"data row11 col0\" >Categorical imputation</td>\n",
       "      <td id=\"T_ed197_row11_col1\" class=\"data row11 col1\" >mode</td>\n",
       "    </tr>\n",
       "    <tr>\n",
       "      <th id=\"T_ed197_level0_row12\" class=\"row_heading level0 row12\" >12</th>\n",
       "      <td id=\"T_ed197_row12_col0\" class=\"data row12 col0\" >Fix imbalance</td>\n",
       "      <td id=\"T_ed197_row12_col1\" class=\"data row12 col1\" >True</td>\n",
       "    </tr>\n",
       "    <tr>\n",
       "      <th id=\"T_ed197_level0_row13\" class=\"row_heading level0 row13\" >13</th>\n",
       "      <td id=\"T_ed197_row13_col0\" class=\"data row13 col0\" >Fix imbalance method</td>\n",
       "      <td id=\"T_ed197_row13_col1\" class=\"data row13 col1\" >SMOTE</td>\n",
       "    </tr>\n",
       "    <tr>\n",
       "      <th id=\"T_ed197_level0_row14\" class=\"row_heading level0 row14\" >14</th>\n",
       "      <td id=\"T_ed197_row14_col0\" class=\"data row14 col0\" >Normalize</td>\n",
       "      <td id=\"T_ed197_row14_col1\" class=\"data row14 col1\" >True</td>\n",
       "    </tr>\n",
       "    <tr>\n",
       "      <th id=\"T_ed197_level0_row15\" class=\"row_heading level0 row15\" >15</th>\n",
       "      <td id=\"T_ed197_row15_col0\" class=\"data row15 col0\" >Normalize method</td>\n",
       "      <td id=\"T_ed197_row15_col1\" class=\"data row15 col1\" >zscore</td>\n",
       "    </tr>\n",
       "    <tr>\n",
       "      <th id=\"T_ed197_level0_row16\" class=\"row_heading level0 row16\" >16</th>\n",
       "      <td id=\"T_ed197_row16_col0\" class=\"data row16 col0\" >Fold Generator</td>\n",
       "      <td id=\"T_ed197_row16_col1\" class=\"data row16 col1\" >StratifiedKFold</td>\n",
       "    </tr>\n",
       "    <tr>\n",
       "      <th id=\"T_ed197_level0_row17\" class=\"row_heading level0 row17\" >17</th>\n",
       "      <td id=\"T_ed197_row17_col0\" class=\"data row17 col0\" >Fold Number</td>\n",
       "      <td id=\"T_ed197_row17_col1\" class=\"data row17 col1\" >10</td>\n",
       "    </tr>\n",
       "    <tr>\n",
       "      <th id=\"T_ed197_level0_row18\" class=\"row_heading level0 row18\" >18</th>\n",
       "      <td id=\"T_ed197_row18_col0\" class=\"data row18 col0\" >CPU Jobs</td>\n",
       "      <td id=\"T_ed197_row18_col1\" class=\"data row18 col1\" >-1</td>\n",
       "    </tr>\n",
       "    <tr>\n",
       "      <th id=\"T_ed197_level0_row19\" class=\"row_heading level0 row19\" >19</th>\n",
       "      <td id=\"T_ed197_row19_col0\" class=\"data row19 col0\" >Use GPU</td>\n",
       "      <td id=\"T_ed197_row19_col1\" class=\"data row19 col1\" >False</td>\n",
       "    </tr>\n",
       "    <tr>\n",
       "      <th id=\"T_ed197_level0_row20\" class=\"row_heading level0 row20\" >20</th>\n",
       "      <td id=\"T_ed197_row20_col0\" class=\"data row20 col0\" >Log Experiment</td>\n",
       "      <td id=\"T_ed197_row20_col1\" class=\"data row20 col1\" >False</td>\n",
       "    </tr>\n",
       "    <tr>\n",
       "      <th id=\"T_ed197_level0_row21\" class=\"row_heading level0 row21\" >21</th>\n",
       "      <td id=\"T_ed197_row21_col0\" class=\"data row21 col0\" >Experiment Name</td>\n",
       "      <td id=\"T_ed197_row21_col1\" class=\"data row21 col1\" >clf-default-name</td>\n",
       "    </tr>\n",
       "    <tr>\n",
       "      <th id=\"T_ed197_level0_row22\" class=\"row_heading level0 row22\" >22</th>\n",
       "      <td id=\"T_ed197_row22_col0\" class=\"data row22 col0\" >USI</td>\n",
       "      <td id=\"T_ed197_row22_col1\" class=\"data row22 col1\" >7864</td>\n",
       "    </tr>\n",
       "  </tbody>\n",
       "</table>\n"
      ],
      "text/plain": [
       "<pandas.io.formats.style.Styler at 0x203ba630e50>"
      ]
     },
     "metadata": {},
     "output_type": "display_data"
    }
   ],
   "source": [
    "inicialização = setup(df, target='fail', normalize=True, fix_imbalance=True)"
   ]
  },
  {
   "cell_type": "markdown",
   "id": "0fdce123-515f-473a-aa5c-033ba8a2a6bd",
   "metadata": {},
   "source": [
    "Não vou adentrar muito sobre a questão da construção do modelo, esse não é o objetivo desse post, caso prefira pode acessar a própria documentação do pycaret que é simples e completa."
   ]
  },
  {
   "cell_type": "markdown",
   "id": "65cb8913-6c04-4076-9caa-509caadcc2cd",
   "metadata": {},
   "source": [
    "Agora vamos verificar qual o melhor modelo para esse projeto pelo comando 'compare_models()' "
   ]
  },
  {
   "cell_type": "code",
   "execution_count": 48,
   "id": "6e05a1a5-2547-4503-8817-61ad869fa84d",
   "metadata": {},
   "outputs": [
    {
     "data": {
      "text/html": [],
      "text/plain": [
       "<IPython.core.display.HTML object>"
      ]
     },
     "metadata": {},
     "output_type": "display_data"
    },
    {
     "data": {
      "text/html": [
       "<style type=\"text/css\">\n",
       "#T_b2521 th {\n",
       "  text-align: left;\n",
       "}\n",
       "#T_b2521_row0_col0, #T_b2521_row0_col2, #T_b2521_row0_col4, #T_b2521_row1_col0, #T_b2521_row1_col1, #T_b2521_row1_col3, #T_b2521_row1_col5, #T_b2521_row1_col6, #T_b2521_row1_col7, #T_b2521_row2_col0, #T_b2521_row2_col1, #T_b2521_row2_col2, #T_b2521_row2_col3, #T_b2521_row2_col4, #T_b2521_row2_col5, #T_b2521_row2_col6, #T_b2521_row2_col7, #T_b2521_row3_col0, #T_b2521_row3_col1, #T_b2521_row3_col2, #T_b2521_row3_col3, #T_b2521_row3_col4, #T_b2521_row3_col5, #T_b2521_row3_col6, #T_b2521_row3_col7 {\n",
       "  text-align: left;\n",
       "}\n",
       "#T_b2521_row0_col1, #T_b2521_row0_col3, #T_b2521_row0_col5, #T_b2521_row0_col6, #T_b2521_row0_col7, #T_b2521_row1_col2, #T_b2521_row1_col4 {\n",
       "  text-align: left;\n",
       "  background-color: yellow;\n",
       "}\n",
       "#T_b2521_row0_col8, #T_b2521_row1_col8, #T_b2521_row2_col8 {\n",
       "  text-align: left;\n",
       "  background-color: lightgrey;\n",
       "}\n",
       "#T_b2521_row3_col8 {\n",
       "  text-align: left;\n",
       "  background-color: yellow;\n",
       "  background-color: lightgrey;\n",
       "}\n",
       "</style>\n",
       "<table id=\"T_b2521\">\n",
       "  <thead>\n",
       "    <tr>\n",
       "      <th class=\"blank level0\" >&nbsp;</th>\n",
       "      <th id=\"T_b2521_level0_col0\" class=\"col_heading level0 col0\" >Model</th>\n",
       "      <th id=\"T_b2521_level0_col1\" class=\"col_heading level0 col1\" >Accuracy</th>\n",
       "      <th id=\"T_b2521_level0_col2\" class=\"col_heading level0 col2\" >AUC</th>\n",
       "      <th id=\"T_b2521_level0_col3\" class=\"col_heading level0 col3\" >Recall</th>\n",
       "      <th id=\"T_b2521_level0_col4\" class=\"col_heading level0 col4\" >Prec.</th>\n",
       "      <th id=\"T_b2521_level0_col5\" class=\"col_heading level0 col5\" >F1</th>\n",
       "      <th id=\"T_b2521_level0_col6\" class=\"col_heading level0 col6\" >Kappa</th>\n",
       "      <th id=\"T_b2521_level0_col7\" class=\"col_heading level0 col7\" >MCC</th>\n",
       "      <th id=\"T_b2521_level0_col8\" class=\"col_heading level0 col8\" >TT (Sec)</th>\n",
       "    </tr>\n",
       "  </thead>\n",
       "  <tbody>\n",
       "    <tr>\n",
       "      <th id=\"T_b2521_level0_row0\" class=\"row_heading level0 row0\" >ridge</th>\n",
       "      <td id=\"T_b2521_row0_col0\" class=\"data row0 col0\" >Ridge Classifier</td>\n",
       "      <td id=\"T_b2521_row0_col1\" class=\"data row0 col1\" >0.9106</td>\n",
       "      <td id=\"T_b2521_row0_col2\" class=\"data row0 col2\" >0.9654</td>\n",
       "      <td id=\"T_b2521_row0_col3\" class=\"data row0 col3\" >0.9308</td>\n",
       "      <td id=\"T_b2521_row0_col4\" class=\"data row0 col4\" >0.8702</td>\n",
       "      <td id=\"T_b2521_row0_col5\" class=\"data row0 col5\" >0.8980</td>\n",
       "      <td id=\"T_b2521_row0_col6\" class=\"data row0 col6\" >0.8190</td>\n",
       "      <td id=\"T_b2521_row0_col7\" class=\"data row0 col7\" >0.8226</td>\n",
       "      <td id=\"T_b2521_row0_col8\" class=\"data row0 col8\" >0.0110</td>\n",
       "    </tr>\n",
       "    <tr>\n",
       "      <th id=\"T_b2521_level0_row1\" class=\"row_heading level0 row1\" >rf</th>\n",
       "      <td id=\"T_b2521_row1_col0\" class=\"data row1 col0\" >Random Forest Classifier</td>\n",
       "      <td id=\"T_b2521_row1_col1\" class=\"data row1 col1\" >0.9000</td>\n",
       "      <td id=\"T_b2521_row1_col2\" class=\"data row1 col2\" >0.9704</td>\n",
       "      <td id=\"T_b2521_row1_col3\" class=\"data row1 col3\" >0.8836</td>\n",
       "      <td id=\"T_b2521_row1_col4\" class=\"data row1 col4\" >0.8839</td>\n",
       "      <td id=\"T_b2521_row1_col5\" class=\"data row1 col5\" >0.8816</td>\n",
       "      <td id=\"T_b2521_row1_col6\" class=\"data row1 col6\" >0.7953</td>\n",
       "      <td id=\"T_b2521_row1_col7\" class=\"data row1 col7\" >0.7980</td>\n",
       "      <td id=\"T_b2521_row1_col8\" class=\"data row1 col8\" >0.0530</td>\n",
       "    </tr>\n",
       "    <tr>\n",
       "      <th id=\"T_b2521_level0_row2\" class=\"row_heading level0 row2\" >gbc</th>\n",
       "      <td id=\"T_b2521_row2_col0\" class=\"data row2 col0\" >Gradient Boosting Classifier</td>\n",
       "      <td id=\"T_b2521_row2_col1\" class=\"data row2 col1\" >0.8955</td>\n",
       "      <td id=\"T_b2521_row2_col2\" class=\"data row2 col2\" >0.9699</td>\n",
       "      <td id=\"T_b2521_row2_col3\" class=\"data row2 col3\" >0.8799</td>\n",
       "      <td id=\"T_b2521_row2_col4\" class=\"data row2 col4\" >0.8768</td>\n",
       "      <td id=\"T_b2521_row2_col5\" class=\"data row2 col5\" >0.8763</td>\n",
       "      <td id=\"T_b2521_row2_col6\" class=\"data row2 col6\" >0.7859</td>\n",
       "      <td id=\"T_b2521_row2_col7\" class=\"data row2 col7\" >0.7887</td>\n",
       "      <td id=\"T_b2521_row2_col8\" class=\"data row2 col8\" >0.0330</td>\n",
       "    </tr>\n",
       "    <tr>\n",
       "      <th id=\"T_b2521_level0_row3\" class=\"row_heading level0 row3\" >svm</th>\n",
       "      <td id=\"T_b2521_row3_col0\" class=\"data row3 col0\" >SVM - Linear Kernel</td>\n",
       "      <td id=\"T_b2521_row3_col1\" class=\"data row3 col1\" >0.8894</td>\n",
       "      <td id=\"T_b2521_row3_col2\" class=\"data row3 col2\" >0.9430</td>\n",
       "      <td id=\"T_b2521_row3_col3\" class=\"data row3 col3\" >0.8729</td>\n",
       "      <td id=\"T_b2521_row3_col4\" class=\"data row3 col4\" >0.8692</td>\n",
       "      <td id=\"T_b2521_row3_col5\" class=\"data row3 col5\" >0.8684</td>\n",
       "      <td id=\"T_b2521_row3_col6\" class=\"data row3 col6\" >0.7733</td>\n",
       "      <td id=\"T_b2521_row3_col7\" class=\"data row3 col7\" >0.7767</td>\n",
       "      <td id=\"T_b2521_row3_col8\" class=\"data row3 col8\" >0.0100</td>\n",
       "    </tr>\n",
       "  </tbody>\n",
       "</table>\n"
      ],
      "text/plain": [
       "<pandas.io.formats.style.Styler at 0x203ba630df0>"
      ]
     },
     "metadata": {},
     "output_type": "display_data"
    },
    {
     "data": {
      "text/html": [],
      "text/plain": [
       "<IPython.core.display.HTML object>"
      ]
     },
     "metadata": {},
     "output_type": "display_data"
    }
   ],
   "source": [
    "best_model = compare_models(include =['rf', 'gbc', 'svm', 'ridge'])"
   ]
  },
  {
   "cell_type": "markdown",
   "id": "2ca02de6-5720-488a-82ec-ef406edf9178",
   "metadata": {},
   "source": [
    "Para a esolha dos modelos de machine learning passei quatro opções, o Gradient Boosting, Ridge, Random Forest e o SVM.\n",
    "O pycaret identificou que o modelo que mais se adequa à conjuntura do projeto é o Ridge , e agora vamos criar esse modelo e passar para a etapa de testes do modelo"
   ]
  },
  {
   "cell_type": "code",
   "execution_count": 49,
   "id": "1556974b-0eb8-4a79-a145-158c48caa8c4",
   "metadata": {},
   "outputs": [
    {
     "data": {
      "text/html": [],
      "text/plain": [
       "<IPython.core.display.HTML object>"
      ]
     },
     "metadata": {},
     "output_type": "display_data"
    },
    {
     "data": {
      "text/html": [
       "<style type=\"text/css\">\n",
       "#T_37d1b_row10_col0, #T_37d1b_row10_col1, #T_37d1b_row10_col2, #T_37d1b_row10_col3, #T_37d1b_row10_col4, #T_37d1b_row10_col5, #T_37d1b_row10_col6 {\n",
       "  background: yellow;\n",
       "}\n",
       "</style>\n",
       "<table id=\"T_37d1b\">\n",
       "  <thead>\n",
       "    <tr>\n",
       "      <th class=\"blank level0\" >&nbsp;</th>\n",
       "      <th id=\"T_37d1b_level0_col0\" class=\"col_heading level0 col0\" >Accuracy</th>\n",
       "      <th id=\"T_37d1b_level0_col1\" class=\"col_heading level0 col1\" >AUC</th>\n",
       "      <th id=\"T_37d1b_level0_col2\" class=\"col_heading level0 col2\" >Recall</th>\n",
       "      <th id=\"T_37d1b_level0_col3\" class=\"col_heading level0 col3\" >Prec.</th>\n",
       "      <th id=\"T_37d1b_level0_col4\" class=\"col_heading level0 col4\" >F1</th>\n",
       "      <th id=\"T_37d1b_level0_col5\" class=\"col_heading level0 col5\" >Kappa</th>\n",
       "      <th id=\"T_37d1b_level0_col6\" class=\"col_heading level0 col6\" >MCC</th>\n",
       "    </tr>\n",
       "    <tr>\n",
       "      <th class=\"index_name level0\" >Fold</th>\n",
       "      <th class=\"blank col0\" >&nbsp;</th>\n",
       "      <th class=\"blank col1\" >&nbsp;</th>\n",
       "      <th class=\"blank col2\" >&nbsp;</th>\n",
       "      <th class=\"blank col3\" >&nbsp;</th>\n",
       "      <th class=\"blank col4\" >&nbsp;</th>\n",
       "      <th class=\"blank col5\" >&nbsp;</th>\n",
       "      <th class=\"blank col6\" >&nbsp;</th>\n",
       "    </tr>\n",
       "  </thead>\n",
       "  <tbody>\n",
       "    <tr>\n",
       "      <th id=\"T_37d1b_level0_row0\" class=\"row_heading level0 row0\" >0</th>\n",
       "      <td id=\"T_37d1b_row0_col0\" class=\"data row0 col0\" >0.9545</td>\n",
       "      <td id=\"T_37d1b_row0_col1\" class=\"data row0 col1\" >0.9801</td>\n",
       "      <td id=\"T_37d1b_row0_col2\" class=\"data row0 col2\" >0.9630</td>\n",
       "      <td id=\"T_37d1b_row0_col3\" class=\"data row0 col3\" >0.9286</td>\n",
       "      <td id=\"T_37d1b_row0_col4\" class=\"data row0 col4\" >0.9455</td>\n",
       "      <td id=\"T_37d1b_row0_col5\" class=\"data row0 col5\" >0.9065</td>\n",
       "      <td id=\"T_37d1b_row0_col6\" class=\"data row0 col6\" >0.9070</td>\n",
       "    </tr>\n",
       "    <tr>\n",
       "      <th id=\"T_37d1b_level0_row1\" class=\"row_heading level0 row1\" >1</th>\n",
       "      <td id=\"T_37d1b_row1_col0\" class=\"data row1 col0\" >0.8030</td>\n",
       "      <td id=\"T_37d1b_row1_col1\" class=\"data row1 col1\" >0.9259</td>\n",
       "      <td id=\"T_37d1b_row1_col2\" class=\"data row1 col2\" >0.8519</td>\n",
       "      <td id=\"T_37d1b_row1_col3\" class=\"data row1 col3\" >0.7188</td>\n",
       "      <td id=\"T_37d1b_row1_col4\" class=\"data row1 col4\" >0.7797</td>\n",
       "      <td id=\"T_37d1b_row1_col5\" class=\"data row1 col5\" >0.6039</td>\n",
       "      <td id=\"T_37d1b_row1_col6\" class=\"data row1 col6\" >0.6110</td>\n",
       "    </tr>\n",
       "    <tr>\n",
       "      <th id=\"T_37d1b_level0_row2\" class=\"row_heading level0 row2\" >2</th>\n",
       "      <td id=\"T_37d1b_row2_col0\" class=\"data row2 col0\" >0.9697</td>\n",
       "      <td id=\"T_37d1b_row2_col1\" class=\"data row2 col1\" >0.9810</td>\n",
       "      <td id=\"T_37d1b_row2_col2\" class=\"data row2 col2\" >0.9630</td>\n",
       "      <td id=\"T_37d1b_row2_col3\" class=\"data row2 col3\" >0.9630</td>\n",
       "      <td id=\"T_37d1b_row2_col4\" class=\"data row2 col4\" >0.9630</td>\n",
       "      <td id=\"T_37d1b_row2_col5\" class=\"data row2 col5\" >0.9373</td>\n",
       "      <td id=\"T_37d1b_row2_col6\" class=\"data row2 col6\" >0.9373</td>\n",
       "    </tr>\n",
       "    <tr>\n",
       "      <th id=\"T_37d1b_level0_row3\" class=\"row_heading level0 row3\" >3</th>\n",
       "      <td id=\"T_37d1b_row3_col0\" class=\"data row3 col0\" >0.9091</td>\n",
       "      <td id=\"T_37d1b_row3_col1\" class=\"data row3 col1\" >0.9668</td>\n",
       "      <td id=\"T_37d1b_row3_col2\" class=\"data row3 col2\" >0.8889</td>\n",
       "      <td id=\"T_37d1b_row3_col3\" class=\"data row3 col3\" >0.8889</td>\n",
       "      <td id=\"T_37d1b_row3_col4\" class=\"data row3 col4\" >0.8889</td>\n",
       "      <td id=\"T_37d1b_row3_col5\" class=\"data row3 col5\" >0.8120</td>\n",
       "      <td id=\"T_37d1b_row3_col6\" class=\"data row3 col6\" >0.8120</td>\n",
       "    </tr>\n",
       "    <tr>\n",
       "      <th id=\"T_37d1b_level0_row4\" class=\"row_heading level0 row4\" >4</th>\n",
       "      <td id=\"T_37d1b_row4_col0\" class=\"data row4 col0\" >0.8485</td>\n",
       "      <td id=\"T_37d1b_row4_col1\" class=\"data row4 col1\" >0.9639</td>\n",
       "      <td id=\"T_37d1b_row4_col2\" class=\"data row4 col2\" >0.9630</td>\n",
       "      <td id=\"T_37d1b_row4_col3\" class=\"data row4 col3\" >0.7429</td>\n",
       "      <td id=\"T_37d1b_row4_col4\" class=\"data row4 col4\" >0.8387</td>\n",
       "      <td id=\"T_37d1b_row4_col5\" class=\"data row4 col5\" >0.7003</td>\n",
       "      <td id=\"T_37d1b_row4_col6\" class=\"data row4 col6\" >0.7213</td>\n",
       "    </tr>\n",
       "    <tr>\n",
       "      <th id=\"T_37d1b_level0_row5\" class=\"row_heading level0 row5\" >5</th>\n",
       "      <td id=\"T_37d1b_row5_col0\" class=\"data row5 col0\" >0.9242</td>\n",
       "      <td id=\"T_37d1b_row5_col1\" class=\"data row5 col1\" >0.9615</td>\n",
       "      <td id=\"T_37d1b_row5_col2\" class=\"data row5 col2\" >0.9286</td>\n",
       "      <td id=\"T_37d1b_row5_col3\" class=\"data row5 col3\" >0.8966</td>\n",
       "      <td id=\"T_37d1b_row5_col4\" class=\"data row5 col4\" >0.9123</td>\n",
       "      <td id=\"T_37d1b_row5_col5\" class=\"data row5 col5\" >0.8457</td>\n",
       "      <td id=\"T_37d1b_row5_col6\" class=\"data row5 col6\" >0.8461</td>\n",
       "    </tr>\n",
       "    <tr>\n",
       "      <th id=\"T_37d1b_level0_row6\" class=\"row_heading level0 row6\" >6</th>\n",
       "      <td id=\"T_37d1b_row6_col0\" class=\"data row6 col0\" >0.9091</td>\n",
       "      <td id=\"T_37d1b_row6_col1\" class=\"data row6 col1\" >0.9389</td>\n",
       "      <td id=\"T_37d1b_row6_col2\" class=\"data row6 col2\" >0.9286</td>\n",
       "      <td id=\"T_37d1b_row6_col3\" class=\"data row6 col3\" >0.8667</td>\n",
       "      <td id=\"T_37d1b_row6_col4\" class=\"data row6 col4\" >0.8966</td>\n",
       "      <td id=\"T_37d1b_row6_col5\" class=\"data row6 col5\" >0.8156</td>\n",
       "      <td id=\"T_37d1b_row6_col6\" class=\"data row6 col6\" >0.8172</td>\n",
       "    </tr>\n",
       "    <tr>\n",
       "      <th id=\"T_37d1b_level0_row7\" class=\"row_heading level0 row7\" >7</th>\n",
       "      <td id=\"T_37d1b_row7_col0\" class=\"data row7 col0\" >0.9242</td>\n",
       "      <td id=\"T_37d1b_row7_col1\" class=\"data row7 col1\" >0.9878</td>\n",
       "      <td id=\"T_37d1b_row7_col2\" class=\"data row7 col2\" >0.8929</td>\n",
       "      <td id=\"T_37d1b_row7_col3\" class=\"data row7 col3\" >0.9259</td>\n",
       "      <td id=\"T_37d1b_row7_col4\" class=\"data row7 col4\" >0.9091</td>\n",
       "      <td id=\"T_37d1b_row7_col5\" class=\"data row7 col5\" >0.8442</td>\n",
       "      <td id=\"T_37d1b_row7_col6\" class=\"data row7 col6\" >0.8446</td>\n",
       "    </tr>\n",
       "    <tr>\n",
       "      <th id=\"T_37d1b_level0_row8\" class=\"row_heading level0 row8\" >8</th>\n",
       "      <td id=\"T_37d1b_row8_col0\" class=\"data row8 col0\" >0.9242</td>\n",
       "      <td id=\"T_37d1b_row8_col1\" class=\"data row8 col1\" >0.9690</td>\n",
       "      <td id=\"T_37d1b_row8_col2\" class=\"data row8 col2\" >0.9643</td>\n",
       "      <td id=\"T_37d1b_row8_col3\" class=\"data row8 col3\" >0.8710</td>\n",
       "      <td id=\"T_37d1b_row8_col4\" class=\"data row8 col4\" >0.9153</td>\n",
       "      <td id=\"T_37d1b_row8_col5\" class=\"data row8 col5\" >0.8471</td>\n",
       "      <td id=\"T_37d1b_row8_col6\" class=\"data row8 col6\" >0.8507</td>\n",
       "    </tr>\n",
       "    <tr>\n",
       "      <th id=\"T_37d1b_level0_row9\" class=\"row_heading level0 row9\" >9</th>\n",
       "      <td id=\"T_37d1b_row9_col0\" class=\"data row9 col0\" >0.9394</td>\n",
       "      <td id=\"T_37d1b_row9_col1\" class=\"data row9 col1\" >0.9746</td>\n",
       "      <td id=\"T_37d1b_row9_col2\" class=\"data row9 col2\" >0.9643</td>\n",
       "      <td id=\"T_37d1b_row9_col3\" class=\"data row9 col3\" >0.9000</td>\n",
       "      <td id=\"T_37d1b_row9_col4\" class=\"data row9 col4\" >0.9310</td>\n",
       "      <td id=\"T_37d1b_row9_col5\" class=\"data row9 col5\" >0.8771</td>\n",
       "      <td id=\"T_37d1b_row9_col6\" class=\"data row9 col6\" >0.8788</td>\n",
       "    </tr>\n",
       "    <tr>\n",
       "      <th id=\"T_37d1b_level0_row10\" class=\"row_heading level0 row10\" >Mean</th>\n",
       "      <td id=\"T_37d1b_row10_col0\" class=\"data row10 col0\" >0.9106</td>\n",
       "      <td id=\"T_37d1b_row10_col1\" class=\"data row10 col1\" >0.9649</td>\n",
       "      <td id=\"T_37d1b_row10_col2\" class=\"data row10 col2\" >0.9308</td>\n",
       "      <td id=\"T_37d1b_row10_col3\" class=\"data row10 col3\" >0.8702</td>\n",
       "      <td id=\"T_37d1b_row10_col4\" class=\"data row10 col4\" >0.8980</td>\n",
       "      <td id=\"T_37d1b_row10_col5\" class=\"data row10 col5\" >0.8190</td>\n",
       "      <td id=\"T_37d1b_row10_col6\" class=\"data row10 col6\" >0.8226</td>\n",
       "    </tr>\n",
       "    <tr>\n",
       "      <th id=\"T_37d1b_level0_row11\" class=\"row_heading level0 row11\" >Std</th>\n",
       "      <td id=\"T_37d1b_row11_col0\" class=\"data row11 col0\" >0.0472</td>\n",
       "      <td id=\"T_37d1b_row11_col1\" class=\"data row11 col1\" >0.0183</td>\n",
       "      <td id=\"T_37d1b_row11_col2\" class=\"data row11 col2\" >0.0385</td>\n",
       "      <td id=\"T_37d1b_row11_col3\" class=\"data row11 col3\" >0.0750</td>\n",
       "      <td id=\"T_37d1b_row11_col4\" class=\"data row11 col4\" >0.0508</td>\n",
       "      <td id=\"T_37d1b_row11_col5\" class=\"data row11 col5\" >0.0936</td>\n",
       "      <td id=\"T_37d1b_row11_col6\" class=\"data row11 col6\" >0.0897</td>\n",
       "    </tr>\n",
       "  </tbody>\n",
       "</table>\n"
      ],
      "text/plain": [
       "<pandas.io.formats.style.Styler at 0x203ba458dc0>"
      ]
     },
     "metadata": {},
     "output_type": "display_data"
    },
    {
     "data": {
      "text/html": [],
      "text/plain": [
       "<IPython.core.display.HTML object>"
      ]
     },
     "metadata": {},
     "output_type": "display_data"
    }
   ],
   "source": [
    "model = create_model(best_model)"
   ]
  },
  {
   "cell_type": "markdown",
   "id": "9745abbe-690a-4de3-a16b-76348adc7707",
   "metadata": {},
   "source": [
    "### Testes e Finalização da Etapa de Modelagem "
   ]
  },
  {
   "cell_type": "code",
   "execution_count": 50,
   "id": "08f729df-1320-464c-9ff4-04883ab569b2",
   "metadata": {},
   "outputs": [
    {
     "data": {
      "application/vnd.jupyter.widget-view+json": {
       "model_id": "7f8ffa22dfea42abb9db3173d15acfbe",
       "version_major": 2,
       "version_minor": 0
      },
      "text/plain": [
       "interactive(children=(ToggleButtons(description='Plot Type:', icons=('',), options=(('Pipeline Plot', 'pipelin…"
      ]
     },
     "metadata": {},
     "output_type": "display_data"
    }
   ],
   "source": [
    "evaluate_model(model)"
   ]
  },
  {
   "cell_type": "markdown",
   "id": "d0b171aa-4786-4bfd-b6bc-2ce3fb41e9be",
   "metadata": {},
   "source": [
    "Com o comando 'evaluate_model()' conseguimos observar de forma dinâmica uma série de métricas sobre o modelo. Um ponto que chamou a atenção foi na análise de 'Feature Importance' que nos dá a visão do percentual de importância que cada variável dentro do modelo, a importância da coluna VOC na variação da variável alvo."
   ]
  },
  {
   "cell_type": "markdown",
   "id": "8ee3fc50-7abe-4302-8025-f679432dcac2",
   "metadata": {},
   "source": [
    "Agora vamos finalizar o modelo passando toda a base de dados para treino e salvando o modelo de previsão em um arquivo para ser utilizado no deploy."
   ]
  },
  {
   "cell_type": "code",
   "execution_count": 56,
   "id": "328b5aed-33ea-454d-a960-59ebe2a54fbd",
   "metadata": {},
   "outputs": [
    {
     "name": "stdout",
     "output_type": "stream",
     "text": [
      "Transformation Pipeline and Model Successfully Saved\n"
     ]
    },
    {
     "data": {
      "text/plain": [
       "(Pipeline(memory=Memory(location=None),\n",
       "          steps=[('numerical_imputer',\n",
       "                  TransformerWrapper(exclude=None,\n",
       "                                     include=['footfall', 'tempMode', 'AQ',\n",
       "                                              'USS', 'CS', 'VOC', 'RP', 'IP',\n",
       "                                              'Temperature'],\n",
       "                                     transformer=SimpleImputer(add_indicator=False,\n",
       "                                                               copy=True,\n",
       "                                                               fill_value=None,\n",
       "                                                               keep_empty_features=False,\n",
       "                                                               missing_values=nan,\n",
       "                                                               strategy='mean'))),\n",
       "                 ('categorical_imputer',\n",
       "                  TransformerWrap...\n",
       "                                                                               random_state=None,\n",
       "                                                                               sampling_strategy='auto')))),\n",
       "                 ('normalize',\n",
       "                  TransformerWrapper(exclude=None, include=None,\n",
       "                                     transformer=StandardScaler(copy=True,\n",
       "                                                                with_mean=True,\n",
       "                                                                with_std=True))),\n",
       "                 ('actual_estimator',\n",
       "                  RidgeClassifier(alpha=1.0, class_weight=None, copy_X=True,\n",
       "                                  fit_intercept=True, max_iter=None,\n",
       "                                  positive=False, random_state=6313,\n",
       "                                  solver='auto', tol=0.0001))],\n",
       "          verbose=False),\n",
       " 'Prev_Maq.pkl')"
      ]
     },
     "execution_count": 56,
     "metadata": {},
     "output_type": "execute_result"
    }
   ],
   "source": [
    "final_best = finalize_model(model)\n",
    "save_model(final_best, 'Prev_Maq')"
   ]
  },
  {
   "cell_type": "markdown",
   "id": "797dc60c-b335-4c79-ac40-56a865ac1b6d",
   "metadata": {},
   "source": [
    "## Considerações Finais sobre a etapa de modelagem"
   ]
  },
  {
   "cell_type": "markdown",
   "id": "e88ef9d8-89d2-4767-a4b5-69f2179fe0b3",
   "metadata": {},
   "source": [
    "O objetivo até aqui foi chegar a um modelo de machine learning sem se aprofundar muito em cada etapa, o modelo pode ser melhorado e ele deve ser melhorado quando utilizado para produção, para fins didáticos como este post o resultado encontrado é o suficiente para avançarmos para a próxima etapa."
   ]
  },
  {
   "cell_type": "markdown",
   "id": "35d69e1b-8c5b-4b54-be6f-a936d5222913",
   "metadata": {},
   "source": [
    "# Criação da API para Deploy do Modelo"
   ]
  },
  {
   "cell_type": "markdown",
   "id": "1ea73c2f-d251-465a-b085-fba9313d23e0",
   "metadata": {},
   "source": [
    "Agora que já temos o modelo salvo co o nome 'Prev_Maq', vamos precisar do VSCode para construir a API com o Flask e do Postman para realizar a requisição das previsões."
   ]
  }
 ],
 "metadata": {
  "kernelspec": {
   "display_name": "Python 3 (ipykernel)",
   "language": "python",
   "name": "python3"
  },
  "language_info": {
   "codemirror_mode": {
    "name": "ipython",
    "version": 3
   },
   "file_extension": ".py",
   "mimetype": "text/x-python",
   "name": "python",
   "nbconvert_exporter": "python",
   "pygments_lexer": "ipython3",
   "version": "3.10.14"
  }
 },
 "nbformat": 4,
 "nbformat_minor": 5
}
